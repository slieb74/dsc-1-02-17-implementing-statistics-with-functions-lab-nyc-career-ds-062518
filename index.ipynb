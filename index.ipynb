{
 "cells": [
  {
   "cell_type": "markdown",
   "metadata": {},
   "source": [
    "# Implementing Statistics with Functions - Lab\n",
    "\n",
    "## Introduction \n",
    "In this lab you'll dive deep into calculating the measures of central tendency and dispersion introduced in previous lessons. You will implement the code the formulas for these functions in python which will require you to use the programming skills that you have gained in first two sections of the module. So let's get started with this.\n",
    "\n",
    "## Objectives\n",
    "\n",
    "You will be able to:\n",
    "* Create functions to model measures of central tendency and dispersion\n",
    "* Perform basic statistical analysis of given data using measures of central tendency and dispersion. "
   ]
  },
  {
   "cell_type": "markdown",
   "metadata": {},
   "source": [
    "### Dataset\n",
    "\n",
    "For this lab, we'll use the [NHIS dataset](http://people.ucsc.edu/~cdobkin/NHIS%202007%20data.csv) containing weights, heights and some other attributes for a number of surveyed individuals. The context of this survey is outside the scope this lab, so we'll just go ahead and load the heights column as a list for us to run some simple statistical experiments. We'll use the pandas library to import the data into our python environment. This process will be covered in detail in the next section. Let's do this for you to give you a head start.  "
   ]
  },
  {
   "cell_type": "code",
   "execution_count": 1,
   "metadata": {},
   "outputs": [
    {
     "data": {
      "text/html": [
       "<div>\n",
       "<style scoped>\n",
       "    .dataframe tbody tr th:only-of-type {\n",
       "        vertical-align: middle;\n",
       "    }\n",
       "\n",
       "    .dataframe tbody tr th {\n",
       "        vertical-align: top;\n",
       "    }\n",
       "\n",
       "    .dataframe thead th {\n",
       "        text-align: right;\n",
       "    }\n",
       "</style>\n",
       "<table border=\"1\" class=\"dataframe\">\n",
       "  <thead>\n",
       "    <tr style=\"text-align: right;\">\n",
       "      <th></th>\n",
       "      <th>HHX</th>\n",
       "      <th>FMX</th>\n",
       "      <th>FPX</th>\n",
       "      <th>SEX</th>\n",
       "      <th>BMI</th>\n",
       "      <th>SLEEP</th>\n",
       "      <th>educ</th>\n",
       "      <th>height</th>\n",
       "      <th>weight</th>\n",
       "    </tr>\n",
       "  </thead>\n",
       "  <tbody>\n",
       "    <tr>\n",
       "      <th>0</th>\n",
       "      <td>16</td>\n",
       "      <td>1</td>\n",
       "      <td>2</td>\n",
       "      <td>1</td>\n",
       "      <td>33.36</td>\n",
       "      <td>8</td>\n",
       "      <td>16</td>\n",
       "      <td>74</td>\n",
       "      <td>260</td>\n",
       "    </tr>\n",
       "    <tr>\n",
       "      <th>1</th>\n",
       "      <td>20</td>\n",
       "      <td>1</td>\n",
       "      <td>1</td>\n",
       "      <td>1</td>\n",
       "      <td>26.54</td>\n",
       "      <td>7</td>\n",
       "      <td>14</td>\n",
       "      <td>70</td>\n",
       "      <td>185</td>\n",
       "    </tr>\n",
       "    <tr>\n",
       "      <th>2</th>\n",
       "      <td>69</td>\n",
       "      <td>1</td>\n",
       "      <td>2</td>\n",
       "      <td>2</td>\n",
       "      <td>32.13</td>\n",
       "      <td>7</td>\n",
       "      <td>9</td>\n",
       "      <td>61</td>\n",
       "      <td>170</td>\n",
       "    </tr>\n",
       "    <tr>\n",
       "      <th>3</th>\n",
       "      <td>87</td>\n",
       "      <td>1</td>\n",
       "      <td>1</td>\n",
       "      <td>1</td>\n",
       "      <td>26.62</td>\n",
       "      <td>8</td>\n",
       "      <td>14</td>\n",
       "      <td>68</td>\n",
       "      <td>175</td>\n",
       "    </tr>\n",
       "    <tr>\n",
       "      <th>4</th>\n",
       "      <td>88</td>\n",
       "      <td>1</td>\n",
       "      <td>1</td>\n",
       "      <td>2</td>\n",
       "      <td>27.13</td>\n",
       "      <td>8</td>\n",
       "      <td>13</td>\n",
       "      <td>66</td>\n",
       "      <td>168</td>\n",
       "    </tr>\n",
       "  </tbody>\n",
       "</table>\n",
       "</div>"
      ],
      "text/plain": [
       "   HHX  FMX  FPX  SEX    BMI  SLEEP  educ  height  weight\n",
       "0   16    1    2    1  33.36      8    16      74     260\n",
       "1   20    1    1    1  26.54      7    14      70     185\n",
       "2   69    1    2    2  32.13      7     9      61     170\n",
       "3   87    1    1    1  26.62      8    14      68     175\n",
       "4   88    1    1    2  27.13      8    13      66     168"
      ]
     },
     "execution_count": 1,
     "metadata": {},
     "output_type": "execute_result"
    }
   ],
   "source": [
    "import pandas as pd\n",
    "df = pd.read_csv('nhis.csv')\n",
    "df.head()"
   ]
  },
  {
   "cell_type": "code",
   "execution_count": 4,
   "metadata": {},
   "outputs": [
    {
     "data": {
      "image/png": "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\n",
      "text/plain": [
       "<Figure size 432x288 with 1 Axes>"
      ]
     },
     "metadata": {
      "needs_background": "light"
     },
     "output_type": "display_data"
    }
   ],
   "source": [
    "# Record your initial observations on the histogram here \n",
    "df.hist(column='height');"
   ]
  },
  {
   "cell_type": "markdown",
   "metadata": {},
   "source": [
    "We are only interested in the heigt column, so we'll save this now as a list."
   ]
  },
  {
   "cell_type": "code",
   "execution_count": 5,
   "metadata": {
    "scrolled": true
   },
   "outputs": [
    {
     "name": "stdout",
     "output_type": "stream",
     "text": [
      "4785\n",
      "[74, 70, 61, 68, 66, 98, 99, 70, 65, 64, 65, 66, 99, 61, 61, 65, 68, 64, 64, 66, 67, 72, 61, 96, 65, 61, 66, 64, 72, 64, 64, 71, 64, 72, 70, 66, 74, 76, 68, 66, 66, 69, 61, 64, 66, 69, 66, 71, 71, 63, 68, 75, 64, 62, 96, 65, 64, 60, 62, 61, 63, 72, 72, 63, 67, 65, 64, 61, 66, 65, 68, 64, 71, 65, 63, 64, 72, 65, 71, 72, 64, 65, 72, 69, 66, 64, 96, 66, 96, 69, 67, 66, 59, 60, 62, 70, 61, 66, 97, 96, 62, 67, 59, 70, 66, 60, 68, 67, 65, 71, 63, 63, 71, 67, 65, 66, 66, 70, 68, 64, 62, 60, 73, 68, 62, 61, 65, 66, 64, 60, 59, 61, 63, 98, 60, 62, 63, 65, 68, 72, 67, 72, 66, 61, 96, 64, 96, 64, 71, 72, 65, 67, 63, 68, 65, 96, 71, 62, 69, 64, 66, 63, 67, 69, 66, 61, 68, 60, 72, 70, 65, 67, 63, 69, 64, 96, 67, 74, 62, 69, 60, 73, 96, 67, 98, 62, 69, 64, 68, 72, 74, 72, 64, 66, 68, 65, 61, 69, 71, 66, 65, 68, 65, 68, 68, 72, 62, 60, 72, 71, 65, 62, 74, 71, 67, 67, 66, 69, 67, 66, 96, 72, 65, 61, 68, 98, 68, 70, 68, 70, 71, 65, 69, 98, 68, 70, 67, 60, 65, 63, 74, 67, 67, 63, 67, 69, 96, 67, 65, 64, 72, 72, 67, 63, 64, 65, 68, 65, 64, 99, 64, 61, 60, 63, 69, 96, 96, 64, 70, 73, 65, 68, 98, 70, 60, 67, 70, 66, 67, 66, 72, 73, 69, 67, 63, 70, 69, 63, 60, 70, 66, 70, 67, 66, 60, 96, 69, 62, 67, 64, 72, 70, 67, 68, 72, 61, 65, 69, 65, 66, 69, 66, 63, 64, 62, 72, 67, 72, 62, 67, 64, 67, 62, 64, 69, 64, 71, 60, 70, 69, 66, 69, 96, 96, 66, 70, 75, 69, 73, 71, 69, 66, 67, 72, 62, 96, 64, 65, 73, 70, 96, 70, 64, 73, 60, 96, 70, 70, 71, 73, 63, 68, 63, 67, 70, 64, 68, 62, 71, 72, 64, 69, 67, 69, 69, 70, 98, 62, 76, 96, 63, 65, 70, 75, 65, 70, 66, 68, 98, 65, 68, 64, 62, 62, 66, 64, 73, 66, 65, 64, 67, 67, 65, 99, 66, 67, 70, 72, 62, 67, 72, 68, 63, 70, 60, 65, 61, 65, 99, 65, 74, 72, 98, 70, 70, 65, 65, 68, 96, 66, 66, 73, 70, 74, 68, 67, 65, 96, 71, 68, 69, 68, 72, 63, 62, 66, 63, 96, 64, 70, 65, 67, 62, 73, 62, 66, 64, 64, 65, 96, 62, 68, 73, 63, 63, 66, 63, 64, 65, 73, 65, 66, 62, 72, 65, 61, 64, 67, 96, 62, 69, 75, 62, 65, 66, 63, 67, 66, 70, 61, 63, 62, 63, 65, 63, 69, 68, 64, 65, 63, 64, 72, 64, 63, 71, 62, 96, 69, 72, 68, 99, 67, 73, 73, 64, 66, 63, 66, 69, 71, 63, 74, 66, 96, 66, 66, 66, 62, 63, 64, 62, 96, 64, 71, 63, 74, 60, 73, 64, 66, 71, 65, 71, 66, 64, 71, 98, 60, 71, 99, 71, 72, 71, 72, 68, 60, 65, 64, 73, 70, 71, 72, 64, 76, 73, 60, 63, 63, 96, 63, 96, 60, 67, 71, 72, 64, 66, 67, 72, 65, 73, 65, 64, 66, 66, 71, 72, 62, 64, 70, 97, 69, 73, 74, 59, 67, 96, 67, 67, 68, 68, 68, 66, 64, 62, 65, 73, 96, 67, 72, 68, 66, 69, 63, 73, 62, 76, 64, 69, 73, 69, 68, 73, 68, 71, 65, 60, 68, 96, 66, 72, 74, 63, 64, 71, 96, 75, 96, 70, 68, 70, 65, 69, 62, 62, 76, 64, 62, 67, 74, 96, 70, 66, 98, 74, 62, 67, 74, 63, 96, 96, 69, 64, 69, 76, 64, 74, 72, 69, 68, 65, 60, 64, 62, 65, 67, 65, 62, 73, 73, 69, 66, 69, 64, 65, 70, 69, 63, 64, 97, 64, 70, 96, 67, 69, 69, 68, 68, 65, 71, 66, 65, 97, 62, 69, 75, 61, 98, 71, 70, 65, 69, 66, 67, 70, 73, 69, 74, 70, 64, 72, 97, 62, 67, 99, 70, 65, 63, 67, 67, 96, 72, 59, 72, 63, 59, 65, 72, 69, 72, 60, 66, 70, 60, 70, 64, 68, 71, 68, 64, 61, 70, 65, 61, 63, 68, 66, 76, 96, 68, 66, 70, 66, 64, 68, 65, 73, 66, 69, 63, 65, 71, 70, 70, 72, 65, 64, 62, 64, 96, 60, 68, 66, 66, 72, 67, 67, 69, 66, 96, 61, 68, 63, 62, 66, 62, 64, 66, 68, 65, 74, 70, 69, 67, 60, 96, 68, 66, 64, 69, 64, 63, 72, 64, 65, 68, 70, 67, 69, 66, 61, 66, 71, 96, 96, 66, 70, 63, 76, 64, 66, 70, 71, 71, 66, 64, 66, 96, 75, 67, 72, 98, 96, 71, 66, 67, 72, 74, 71, 64, 63, 65, 60, 66, 72, 62, 69, 70, 65, 70, 72, 63, 65, 75, 67, 62, 69, 67, 75, 66, 68, 67, 72, 67, 61, 60, 65, 66, 61, 65, 62, 72, 67, 62, 98, 71, 96, 66, 67, 65, 63, 70, 70, 71, 96, 63, 68, 66, 65, 63, 61, 62, 68, 63, 66, 67, 62, 63, 67, 68, 64, 98, 69, 66, 61, 63, 69, 64, 64, 72, 66, 60, 65, 74, 68, 71, 62, 65, 63, 65, 96, 65, 66, 72, 67, 63, 66, 69, 65, 65, 71, 73, 72, 68, 62, 64, 66, 63, 69, 63, 67, 59, 71, 64, 98, 71, 64, 65, 67, 65, 65, 71, 71, 59, 67, 68, 71, 98, 64, 67, 72, 76, 96, 98, 72, 68, 64, 69, 64, 62, 98, 71, 72, 62, 98, 71, 69, 65, 64, 60, 72, 96, 64, 72, 65, 70, 62, 62, 66, 72, 69, 63, 72, 72, 70, 67, 64, 65, 66, 69, 65, 67, 66, 65, 62, 60, 66, 67, 69, 61, 63, 64, 66, 96, 70, 63, 72, 96, 67, 69, 69, 64, 70, 67, 71, 64, 63, 74, 64, 73, 66, 70, 68, 61, 62, 65, 71, 69, 67, 61, 68, 60, 74, 65, 72, 60, 70, 62, 70, 72, 69, 67, 66, 71, 69, 59, 67, 65, 63, 63, 98, 62, 97, 66, 65, 64, 68, 64, 65, 65, 66, 67, 96, 68, 62, 97, 71, 70, 69, 61, 63, 66, 96, 59, 62, 71, 76, 70, 73, 71, 59, 63, 69, 64, 64, 66, 69, 66, 98, 71, 69, 98, 72, 67, 62, 75, 63, 67, 64, 61, 70, 67, 65, 66, 75, 62, 69, 74, 67, 68, 64, 69, 75, 66, 68, 64, 96, 72, 59, 75, 64, 66, 68, 68, 68, 96, 96, 69, 72, 63, 63, 96, 66, 63, 68, 67, 64, 64, 72, 64, 70, 75, 68, 70, 64, 64, 62, 66, 65, 66, 96, 75, 62, 74, 72, 66, 98, 69, 66, 61, 71, 66, 67, 64, 70, 68, 73, 71, 96, 66, 64, 96, 62, 65, 72, 68, 69, 68, 62, 69, 74, 66, 72, 72, 60, 76, 70, 67, 72, 63, 62, 68, 63, 73, 63, 71, 60, 65, 64, 62, 66, 61, 68, 96, 68, 67, 61, 67, 72, 72, 62, 68, 62, 68, 72, 99, 68, 68, 72, 66, 68, 96, 69, 63, 63, 64, 65, 73, 67, 64, 65, 65, 68, 63, 66, 64, 63, 65, 63, 74, 63, 67, 69, 73, 63, 62, 70, 63, 64, 69, 65, 69, 69, 66, 69, 60, 64, 60, 66, 67, 96, 67, 96, 63, 62, 70, 71, 64, 72, 69, 63, 96, 67, 69, 71, 66, 71, 64, 64, 72, 72, 70, 64, 65, 70, 97, 64, 65, 96, 64, 62, 71, 98, 64, 70, 66, 65, 67, 72, 64, 62, 68, 70, 96, 74, 62, 62, 69, 64, 67, 96, 71, 63, 71, 66, 70, 61, 68, 63, 96, 70, 62, 60, 64, 76, 63, 75, 63, 71, 70, 67, 96, 65, 64, 62, 68, 66, 68, 64, 72, 63, 71, 70, 96, 62, 61, 64, 69, 66, 75, 64, 68, 68, 65, 69, 71, 65, 96, 67, 66, 66, 65, 70, 64, 72, 68, 67, 65, 65, 64, 64, 64, 66, 63, 96, 74, 60, 63, 62, 96, 68, 65, 66, 74, 67, 63, 71, 67, 69, 73, 69, 62, 63, 67, 65, 68, 67, 71, 97, 68, 60, 65, 65, 96, 68, 68, 65, 70, 68, 70, 71, 67, 64, 64, 59, 59, 61, 65, 60, 70, 62, 60, 69, 62, 69, 68, 66, 62, 68, 64, 70, 64, 62, 69, 96, 66, 59, 68, 68, 73, 68, 67, 96, 76, 96, 65, 73, 64, 64, 71, 65, 62, 71, 60, 62, 65, 72, 69, 70, 71, 68, 96, 61, 96, 96, 65, 63, 66, 66, 62, 61, 66, 65, 61, 68, 65, 96, 64, 65, 70, 63, 60, 69, 63, 62, 60, 62, 67, 66, 65, 66, 72, 98, 68, 64, 67, 65, 96, 71, 72, 62, 98, 96, 96, 71, 63, 68, 67, 70, 65, 67, 66, 72, 67, 69, 67, 96, 70, 60, 61, 61, 65, 96, 73, 63, 96, 62, 76, 62, 99, 68, 63, 70, 71, 73, 65, 67, 64, 71, 60, 68, 65, 67, 67, 67, 69, 67, 65, 62, 71, 64, 60, 62, 66, 64, 69, 60, 60, 60, 66, 71, 62, 72, 63, 64, 72, 65, 72, 68, 66, 76, 69, 62, 97, 67, 65, 68, 66, 66, 70, 66, 72, 67, 72, 74, 64, 64, 74, 96, 99, 69, 67, 68, 98, 66, 63, 71, 61, 63, 69, 71, 71, 96, 63, 66, 62, 64, 59, 64, 69, 66, 68, 65, 65, 65, 72, 68, 98, 65, 71, 96, 72, 62, 63, 65, 66, 66, 65, 67, 68, 75, 67, 68, 68, 67, 64, 69, 73, 68, 72, 71, 65, 96, 62, 67, 67, 71, 70, 61, 69, 65, 66, 71, 61, 63, 65, 69, 73, 63, 63, 69, 72, 70, 60, 69, 66, 73, 71, 68, 63, 67, 66, 64, 75, 62, 70, 99, 96, 76, 65, 69, 71, 67, 70, 70, 72, 70, 61, 68, 61, 63, 68, 61, 63, 69, 98, 68, 96, 70, 62, 71, 73, 70, 75, 66, 74, 70, 64, 64, 68, 65, 69, 64, 73, 73, 68, 70, 75, 62, 63, 68, 67, 69, 66, 64, 61, 63, 60, 64, 62, 68, 74, 63, 62, 63, 66, 60, 66, 65, 65, 67, 69, 67, 62, 70, 64, 62, 96, 72, 66, 66, 69, 68, 74, 74, 97, 69, 96, 70, 73, 67, 63, 72, 66, 75, 63, 69, 68, 71, 70, 64, 65, 72, 70, 64, 67, 96, 64, 63, 70, 65, 68, 62, 66, 73, 63, 65, 66, 66, 74, 71, 96, 68, 73, 66, 70, 70, 68, 67, 66, 65, 69, 63, 64, 75, 66, 62, 68, 68, 70, 68, 70, 67, 69, 64, 68, 69, 65, 62, 71, 68, 66, 65, 67, 67, 62, 98, 66, 96, 67, 65, 70, 98, 62, 64, 70, 69, 96, 72, 67, 65, 62, 62, 68, 61, 96, 62, 64, 63, 69, 69, 65, 71, 66, 64, 72, 96, 68, 65, 72, 68, 64, 72, 64, 72, 96, 98, 60, 65, 73, 67, 65, 65, 66, 71, 96, 62, 60, 98, 59, 62, 70, 68, 70, 65, 72, 96, 69, 96, 68, 68, 66, 96, 63, 68, 62, 64, 65, 70, 62, 67, 68, 64, 64, 67, 66, 69, 65, 64, 99, 96, 64, 63, 72, 97, 71, 61, 70, 64, 70, 71, 59, 64, 69, 66, 74, 64, 64, 67, 63, 67, 64, 68, 61, 64, 69, 66, 67, 70, 63, 62, 66, 64, 63, 68, 64, 74, 65, 99, 66, 71, 74, 75, 65, 68, 66, 98, 66, 64, 68, 68, 67, 68, 70, 63, 59, 71, 64, 76, 67, 71, 68, 64, 96, 66, 66, 64, 96, 71, 96, 76, 71, 63, 96, 68, 96, 71, 73, 75, 63, 67, 72, 61, 65, 64, 62, 67, 65, 68, 68, 72, 59, 63, 70, 67, 68, 96, 73, 65, 66, 67, 64, 72, 75, 62, 65, 71, 72, 69, 62, 68, 72, 65, 62, 64, 73, 98, 65, 96, 74, 61, 63, 71, 69, 67, 69, 67, 69, 61, 66, 70, 60, 74, 61, 68, 62, 66, 61, 72, 73, 96, 96, 67, 70, 66, 64, 73, 67, 69, 60, 69, 68, 68, 67, 96, 75, 98, 75, 96, 70, 63, 61, 61, 70, 61, 96, 67, 69, 67, 71, 75, 63, 67, 70, 69, 66, 61, 68, 62, 68, 62, 66, 76, 62, 64, 61, 69, 63, 97, 69, 72, 75, 71, 70, 65, 66, 96, 66, 69, 61, 69, 68, 65, 96, 60, 68, 63, 71, 62, 72, 73, 66, 68, 63, 70, 62, 71, 68, 97, 70, 62, 68, 69, 64, 76, 65, 63, 64, 68, 61, 61, 63, 71, 76, 65, 68, 64, 64, 96, 68, 68, 71, 63, 62, 70, 65, 67, 64, 62, 64, 61, 64, 67, 72, 70, 60, 70, 64, 67, 59, 69, 67, 69, 96, 61, 70, 68, 71, 69, 69, 68, 68, 63, 96, 61, 64, 62, 96, 74, 64, 65, 72, 69, 64, 69, 68, 65, 61, 73, 63, 60, 65, 75, 61, 67, 66, 70, 69, 67, 59, 75, 64, 65, 66, 67, 61, 70, 96, 61, 69, 68, 63, 65, 69, 63, 64, 70, 61, 99, 64, 63, 67, 96, 67, 64, 68, 74, 72, 67, 96, 64, 63, 65, 66, 71, 61, 61, 96, 68, 68, 68, 65, 64, 96, 69, 67, 64, 63, 60, 69, 64, 64, 65, 65, 67, 72, 68, 68, 69, 64, 72, 97, 67, 65, 59, 66, 64, 67, 74, 70, 70, 68, 71, 65, 66, 61, 70, 70, 69, 69, 65, 66, 66, 67, 63, 68, 98, 67, 68, 64, 74, 98, 65, 63, 64, 68, 63, 70, 66, 68, 96, 69, 61, 65, 96, 62, 73, 64, 66, 96, 61, 67, 66, 66, 64, 75, 67, 72, 67, 72, 74, 62, 63, 60, 72, 62, 64, 62, 62, 69, 64, 67, 67, 61, 64, 66, 74, 59, 69, 68, 65, 66, 73, 75, 67, 66, 71, 65, 99, 71, 69, 73, 64, 72, 64, 97, 67, 76, 64, 59, 69, 69, 66, 73, 71, 67, 65, 68, 65, 96, 62, 72, 71, 67, 69, 98, 96, 65, 72, 64, 62, 63, 96, 73, 98, 65, 69, 62, 73, 74, 73, 71, 61, 69, 68, 63, 64, 62, 72, 72, 66, 96, 62, 96, 69, 96, 96, 63, 64, 66, 63, 62, 69, 67, 64, 63, 68, 68, 72, 73, 63, 66, 65, 66, 73, 99, 66, 62, 96, 60, 64, 96, 96, 66, 75, 66, 69, 74, 71, 62, 64, 72, 96, 71, 68, 76, 64, 61, 67, 96, 66, 96, 61, 60, 68, 72, 64, 67, 68, 96, 71, 67, 67, 67, 70, 96, 68, 64, 72, 64, 67, 63, 68, 70, 98, 62, 65, 71, 64, 76, 66, 99, 69, 75, 60, 72, 71, 61, 69, 68, 76, 61, 63, 69, 65, 99, 68, 73, 66, 69, 99, 62, 67, 73, 61, 98, 96, 67, 66, 70, 70, 96, 73, 65, 96, 68, 70, 63, 61, 67, 64, 61, 64, 62, 72, 97, 64, 66, 73, 72, 60, 71, 64, 68, 99, 66, 62, 75, 72, 64, 72, 99, 69, 60, 65, 68, 66, 74, 60, 68, 63, 96, 66, 69, 67, 64, 73, 60, 72, 66, 63, 65, 67, 64, 60, 66, 70, 65, 67, 72, 65, 70, 61, 60, 71, 63, 70, 70, 73, 62, 62, 67, 68, 61, 71, 69, 62, 98, 63, 64, 67, 65, 60, 96, 67, 68, 72, 96, 64, 66, 66, 64, 71, 67, 62, 70, 97, 69, 64, 64, 71, 68, 68, 68, 64, 69, 62, 65, 64, 64, 64, 65, 67, 65, 63, 71, 74, 68, 75, 96, 68, 69, 73, 67, 61, 67, 68, 69, 65, 66, 67, 65, 69, 69, 63, 66, 67, 76, 65, 67, 68, 67, 65, 65, 69, 61, 96, 67, 71, 63, 73, 68, 63, 62, 65, 66, 67, 63, 70, 62, 74, 66, 73, 66, 64, 69, 60, 68, 64, 73, 59, 66, 65, 96, 69, 67, 63, 66, 67, 61, 76, 67, 76, 64, 67, 62, 67, 70, 67, 64, 67, 62, 64, 68, 64, 68, 68, 69, 96, 67, 63, 67, 69, 72, 68, 67, 66, 70, 64, 65, 67, 62, 63, 71, 68, 67, 68, 96, 61, 65, 74, 62, 64, 65, 66, 70, 67, 63, 75, 60, 68, 96, 66, 67, 60, 64, 72, 96, 64, 70, 66, 65, 67, 68, 73, 68, 73, 97, 65, 96, 63, 70, 63, 73, 68, 61, 64, 71, 64, 65, 98, 72, 63, 65, 62, 64, 72, 96, 65, 70, 70, 63, 70, 67, 68, 72, 67, 62, 67, 70, 65, 64, 72, 72, 68, 69, 75, 69, 60, 64, 71, 67, 68, 71, 64, 67, 96, 66, 63, 66, 70, 62, 65, 61, 68, 67, 67, 61, 67, 59, 69, 65, 63, 71, 69, 71, 96, 72, 68, 60, 63, 66, 70, 65, 72, 62, 76, 68, 68, 64, 68, 67, 68, 64, 73, 75, 71, 96, 66, 73, 67, 64, 73, 71, 96, 66, 72, 63, 70, 70, 98, 72, 67, 67, 99, 64, 67, 63, 70, 70, 67, 70, 67, 72, 63, 66, 65, 65, 60, 96, 72, 61, 67, 70, 64, 70, 66, 67, 72, 63, 64, 73, 67, 73, 67, 75, 68, 69, 69, 63, 66, 74, 68, 64, 64, 68, 65, 63, 66, 97, 67, 64, 68, 63, 75, 63, 64, 65, 63, 64, 67, 67, 62, 68, 65, 64, 72, 99, 65, 98, 65, 97, 60, 64, 61, 73, 72, 96, 62, 68, 63, 96, 74, 75, 70, 64, 64, 68, 66, 70, 68, 63, 67, 67, 66, 62, 71, 74, 68, 71, 66, 69, 96, 96, 72, 99, 69, 61, 72, 96, 72, 70, 65, 63, 61, 65, 66, 66, 68, 68, 64, 70, 67, 66, 98, 66, 72, 64, 96, 72, 98, 97, 68, 70, 64, 63, 67, 69, 61, 72, 76, 66, 63, 68, 64, 71, 64, 68, 65, 67, 64, 65, 69, 63, 62, 69, 66, 64, 70, 67, 68, 62, 67, 64, 71, 63, 63, 66, 62, 96, 66, 64, 66, 68, 72, 97, 60, 96, 60, 66, 69, 69, 64, 62, 59, 96, 64, 69, 62, 67, 63, 72, 65, 69, 70, 67, 62, 66, 69, 67, 62, 72, 96, 67, 69, 69, 62, 64, 74, 63, 67, 70, 62, 68, 63, 99, 70, 96, 63, 64, 70, 96, 98, 64, 71, 66, 65, 68, 66, 73, 61, 72, 61, 67, 63, 64, 62, 66, 66, 71, 66, 71, 68, 67, 68, 64, 69, 74, 64, 96, 67, 61, 70, 70, 63, 66, 67, 97, 68, 71, 73, 62, 73, 67, 70, 64, 61, 65, 69, 60, 60, 64, 63, 64, 66, 71, 74, 64, 66, 64, 65, 61, 66, 74, 96, 99, 59, 67, 71, 62, 70, 66, 67, 68, 63, 61, 74, 65, 67, 63, 76, 67, 69, 96, 65, 65, 96, 68, 74, 60, 63, 67, 96, 62, 99, 64, 64, 96, 71, 66, 98, 73, 68, 97, 97, 96, 65, 69, 66, 63, 66, 65, 62, 66, 66, 66, 69, 70, 96, 66, 72, 63, 96, 67, 73, 61, 74, 66, 65, 66, 74, 66, 72, 70, 65, 73, 68, 63, 71, 65, 59, 75, 67, 68, 63, 70, 98, 61, 61, 69, 97, 69, 66, 68, 64, 64, 96, 70, 65, 68, 74, 64, 61, 69, 76, 70, 63, 69, 64, 68, 67, 68, 72, 65, 66, 72, 63, 60, 70, 60, 65, 97, 73, 63, 64, 67, 71, 67, 96, 66, 71, 68, 72, 66, 67, 62, 62, 69, 65, 75, 64, 70, 66, 72, 64, 61, 62, 73, 96, 63, 71, 68, 97, 70, 63, 62, 71, 63, 66, 73, 70, 64, 63, 75, 62, 65, 68, 98, 68, 66, 96, 71, 73, 69, 68, 73, 67, 69, 62, 66, 62, 62, 64, 67, 72, 76, 69, 75, 66, 96, 66, 62, 64, 65, 63, 66, 65, 73, 67, 66, 72, 70, 66, 70, 70, 69, 64, 96, 96, 66, 70, 68, 66, 73, 69, 61, 96, 59, 73, 69, 67, 69, 69, 67, 70, 73, 72, 62, 62, 69, 65, 66, 71, 75, 62, 72, 66, 60, 70, 63, 65, 71, 68, 66, 96, 72, 64, 96, 68, 67, 66, 61, 60, 72, 74, 62, 63, 61, 63, 96, 74, 71, 63, 71, 68, 97, 72, 74, 65, 73, 75, 66, 67, 73, 66, 72, 71, 98, 96, 70, 65, 62, 66, 61, 96, 64, 75, 74, 96, 66, 64, 96, 60, 61, 72, 67, 66, 67, 71, 62, 67, 64, 96, 62, 70, 69, 64, 60, 67, 69, 68, 66, 68, 96, 64, 63, 66, 65, 71, 71, 63, 64, 62, 69, 70, 74, 62, 66, 63, 64, 68, 70, 65, 63, 62, 69, 96, 69, 96, 65, 64, 64, 97, 59, 68, 67, 70, 66, 66, 69, 67, 96, 70, 75, 64, 60, 74, 62, 66, 72, 71, 75, 96, 64, 70, 96, 67, 97, 60, 71, 68, 66, 74, 67, 64, 65, 72, 67, 65, 65, 73, 65, 63, 66, 65, 64, 68, 62, 74, 72, 73, 65, 67, 63, 64, 70, 72, 98, 66, 70, 65, 59, 96, 70, 67, 61, 70, 68, 65, 60, 74, 61, 62, 65, 63, 66, 74, 60, 62, 72, 64, 74, 67, 64, 76, 75, 73, 67, 63, 67, 96, 66, 99, 66, 63, 70, 69, 96, 65, 96, 60, 67, 67, 74, 69, 74, 66, 68, 67, 68, 64, 60, 67, 96, 72, 72, 62, 59, 65, 70, 64, 64, 70, 66, 75, 71, 97, 64, 72, 96, 70, 72, 70, 69, 66, 66, 68, 73, 65, 65, 64, 64, 64, 66, 96, 66, 71, 68, 70, 64, 61, 64, 72, 64, 60, 64, 66, 64, 65, 72, 75, 66, 66, 73, 66, 72, 64, 64, 64, 59, 70, 69, 59, 74, 62, 63, 66, 70, 66, 64, 65, 73, 96, 59, 96, 61, 63, 66, 68, 72, 70, 70, 65, 71, 76, 96, 64, 69, 64, 64, 96, 60, 73, 73, 98, 73, 64, 63, 69, 68, 74, 96, 72, 70, 63, 65, 70, 65, 64, 65, 65, 71, 64, 67, 96, 63, 72, 64, 71, 66, 67, 68, 62, 70, 65, 63, 62, 59, 65, 67, 72, 67, 65, 63, 70, 63, 66, 63, 65, 72, 98, 64, 65, 63, 97, 67, 69, 68, 69, 61, 98, 59, 69, 65, 74, 96, 68, 72, 65, 68, 61, 62, 69, 64, 71, 96, 73, 72, 67, 62, 69, 96, 72, 64, 69, 66, 67, 65, 72, 96, 63, 72, 65, 96, 96, 96, 70, 96, 69, 68, 70, 73, 66, 76, 74, 68, 96, 65, 72, 69, 61, 72, 72, 70, 66, 67, 96, 65, 64, 69, 68, 64, 66, 69, 68, 64, 68, 68, 71, 62, 73, 73, 69, 67, 72, 71, 62, 65, 64, 63, 66, 70, 68, 64, 68, 73, 68, 65, 67, 71, 66, 66, 74, 68, 62, 69, 69, 64, 72, 69, 73, 65, 66, 71, 71, 62, 61, 70, 65, 60, 71, 71, 71, 70, 63, 67, 64, 66, 64, 69, 61, 70, 98, 71, 71, 62, 64, 66, 68, 66, 64, 67, 63, 65, 71, 70, 75, 96, 68, 73, 67, 73, 71, 66, 70, 65, 96, 96, 65, 68, 70, 63, 72, 62, 63, 62, 62, 67, 75, 71, 73, 69, 62, 96, 71, 66, 70, 64, 61, 74, 72, 71, 65, 69, 70, 62, 60, 72, 71, 68, 72, 69, 96, 66, 74, 65, 75, 64, 66, 67, 73, 74, 66, 73, 68, 69, 73, 65, 66, 66, 69, 71, 64, 62, 63, 62, 69, 65, 64, 72, 72, 68, 71, 64, 96, 72, 63, 67, 62, 72, 71, 65, 96, 66, 72, 72, 67, 74, 96, 69, 67, 74, 64, 60, 66, 64, 96, 72, 67, 60, 64, 61, 68, 59, 67, 72, 67, 59, 69, 75, 66, 63, 59, 63, 64, 75, 64, 96, 62, 68, 64, 66, 64, 63, 65, 72, 65, 61, 76, 66, 63, 66, 96, 70, 63, 62, 67, 64, 71, 61, 61, 67, 71, 65, 60, 65, 67, 66, 60, 66, 65, 72, 68, 76, 65, 67, 67, 67, 64, 59, 69, 61, 65, 72, 70, 66, 69, 64, 72, 66, 71, 96, 61, 67, 96, 72, 70, 68, 66, 66, 96, 72, 65, 66, 65, 60, 64, 63, 65, 73, 74, 96, 66, 63, 61, 66, 69, 63, 75, 70, 66, 65, 65, 68, 68, 68, 65, 68, 72, 70, 98, 63, 67, 71, 68, 70, 71, 97, 73, 96, 72, 63, 60, 66, 62, 64, 69, 67, 68, 69, 73, 73, 66, 71, 64, 69, 65, 63, 61, 73, 64, 69, 66, 98, 62, 65, 65, 63, 63, 60, 75, 75, 65, 60, 60, 64, 62, 66, 64, 59, 96, 71, 68, 72, 62, 69, 63, 63, 64, 59, 63, 71, 71, 96, 62, 69, 67, 96, 64, 75, 65, 60, 69, 67, 63, 74, 96, 67, 66, 73, 65, 71, 65, 65, 68, 98, 64, 72, 65, 64, 61, 68, 72, 75, 64, 64, 63, 64, 63, 62, 68, 67, 70, 71, 66, 67, 63, 68, 72, 67, 76, 64, 74, 72, 62, 67, 70, 64, 62, 71, 96, 98, 67, 63, 70, 70, 63, 70, 72, 96, 96, 70, 71, 69, 59, 61, 64, 64, 67, 62, 65, 71, 62, 66, 68, 71, 74, 69, 68, 75, 97, 61, 67, 64, 69, 64, 73, 68, 64, 72, 65, 66, 64, 71, 70, 61, 71, 74, 69, 73, 98, 63, 67, 60, 64, 67, 69, 70, 64, 63, 96, 67, 64, 64, 62, 74, 64, 67, 68, 74, 68, 96, 73, 65, 66, 71, 63, 68, 64, 65, 69, 69, 68, 68, 71, 61, 62, 62, 64, 60, 66, 66, 72, 96, 64, 96, 71, 73, 74, 68, 66, 71, 76, 67, 62, 60, 72, 66, 67, 66, 71, 69, 63, 72, 76, 68, 70, 72, 76, 69, 67, 70, 65, 66, 63, 60, 67, 68, 67, 65, 71, 60, 71, 66, 65, 70, 63, 63, 60, 69, 96, 96, 96, 64, 67, 71, 72, 70, 69, 66, 61, 66, 98, 64, 72, 96, 71, 60, 63, 64, 67, 73, 69, 62, 69, 96, 69, 69, 96, 97, 63, 62, 60, 64, 96, 74, 65, 71, 64, 69, 65, 66, 71, 70, 75, 59, 73, 68, 99, 63, 62, 60, 67, 75, 76, 63, 73, 75, 65, 60, 74, 65, 96, 66, 73, 69, 65, 64, 61, 66, 61, 76, 66, 63, 74, 98, 59, 73, 65, 66, 68, 62, 74, 76, 62, 68, 67, 63, 67, 68, 74, 67, 71, 72, 71, 64, 63, 65, 68, 67, 61, 96, 68, 64, 70, 61, 66, 71, 96, 96, 99, 64, 96, 66, 65, 71, 74, 69, 68, 65, 68, 63, 64, 73, 67, 64, 64, 70, 72, 73, 64, 63, 72, 97, 65, 70, 63, 96, 97, 67, 66, 67, 72, 67, 65, 67, 67, 96, 70, 65, 67, 74, 67, 65, 64, 69, 60, 63, 72, 71, 68, 62, 68, 98, 74, 68, 66, 71, 65, 68, 69, 59, 72, 62, 75, 61, 62, 71, 64, 61, 69, 69, 70, 73, 65, 67, 68, 96, 96, 76, 66, 70, 67, 70, 67, 67, 96, 61, 66, 62, 72, 98, 72, 71, 96, 66, 72, 66, 73, 74, 64, 63, 65, 62, 73, 63, 63, 69, 66, 74, 70, 60, 66, 66, 61, 98, 60, 63, 71, 63, 60, 60, 96, 67, 61, 69, 69, 70, 65, 65, 72, 66, 67, 62, 68, 68, 96, 66, 70, 69, 66, 70, 66, 64, 64, 68, 67, 62, 67, 97, 66, 69, 64, 67, 97, 73, 65, 71, 69, 67, 67, 60, 75, 67, 69, 68, 61, 64, 63, 67, 73, 97, 68, 64, 65, 64, 74, 72, 59, 62, 60, 69, 62, 71, 69, 59, 66, 63, 63, 62, 70, 70, 96, 96, 61, 68, 66, 96, 70, 60, 63, 62, 71, 96, 70, 59, 69, 60, 64, 65, 72, 71, 64, 66, 68, 66, 67, 62, 68, 70, 66, 70, 70, 63, 73, 67, 65, 65, 66, 72, 61, 64, 69, 71, 65, 64, 70, 62, 71, 68, 65, 96, 66, 63, 96, 64, 63, 68, 72, 64, 62, 64, 68, 69, 64, 68, 73, 72, 76, 68, 62, 67, 69, 69, 71, 61, 62, 68, 68, 66, 67, 64, 98, 75, 67, 96, 64, 64, 62, 63, 98, 60, 64, 74, 66, 64, 66, 69, 63, 70, 69, 69, 64, 64, 62]\n"
     ]
    }
   ],
   "source": [
    "height = df.height.values.tolist()\n",
    "print (len(height))\n",
    "print (height)"
   ]
  },
  {
   "cell_type": "markdown",
   "metadata": {},
   "source": [
    "So around 4700 records of height, thats great. How about plotting a histogram for these values. \n",
    "\n",
    "## Plotting Histograms\n",
    "\n",
    "In the cell below, Import matplotlib as we saw earlier and plot a histogram of these values. Use a bin size of 8. Considering the height in inches, record your initial observations in the following cell. "
   ]
  },
  {
   "cell_type": "code",
   "execution_count": 10,
   "metadata": {},
   "outputs": [
    {
     "data": {
      "image/png": "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